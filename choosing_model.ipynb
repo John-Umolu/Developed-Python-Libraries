{
 "cells": [
  {
   "cell_type": "code",
   "execution_count": 1,
   "id": "467dce88",
   "metadata": {},
   "outputs": [
    {
     "name": "stdout",
     "output_type": "stream",
     "text": [
      "Please enter the CSV dataset filename: houseprice_data\n",
      "Please enter the target column name: price\n",
      "\n",
      "Model Suggestion:\n",
      "Use Regression Model => Numerical: float64, Categorical: False, Unique Values: 3625, Total Value: 21613\n"
     ]
    }
   ],
   "source": [
    "# Code written by Umolu John Chukwuemeka\n",
    "# import libraries\n",
    "import JUStat as js\n",
    "import pandas as pd\n",
    "\n",
    "# create an empty dataframe\n",
    "df = pd.DataFrame()\n",
    "\n",
    "\n",
    "def suggest_model():\n",
    "    # make dataframe accessible from outside\n",
    "    global df\n",
    "\n",
    "    # enter the target columns name\n",
    "    target_variable = input('Please enter the target column name: ')\n",
    "\n",
    "    # ensure that the target column is in the dataset columns\n",
    "    if target_variable not in df.columns:\n",
    "        # display error message\n",
    "        print('\\nError: Please enter a valid target column name to proceed.')\n",
    "\n",
    "        # call last text input function\n",
    "        suggest_model()\n",
    "\n",
    "    # do this instead\n",
    "    else:\n",
    "        # check the best model to use\n",
    "        result = js.best_model(df, target_variable)\n",
    "\n",
    "        # display best model result\n",
    "        print(result)\n",
    "\n",
    "\n",
    "def enter_filename():\n",
    "    # make dataframe accessible from outside\n",
    "    global df\n",
    "\n",
    "    # enter the target columns name\n",
    "    filename = input('Please enter the CSV dataset filename: ')\n",
    "\n",
    "    try:\n",
    "        # read CSV file to dataframe\n",
    "        df = pd.read_csv(filename) if '.csv' in filename else pd.read_csv(f'{filename}.csv')\n",
    "\n",
    "        # call the next text input function\n",
    "        suggest_model()\n",
    "\n",
    "    except BaseException as error:\n",
    "        # display error message\n",
    "        print('\\nError: Please enter a valid CSV dataset filename: {}'.format(error))\n",
    "\n",
    "        # call last text input function\n",
    "        enter_filename()\n",
    "\n",
    "\n",
    "# call the first text input function\n",
    "enter_filename()"
   ]
  }
 ],
 "metadata": {
  "kernelspec": {
   "display_name": "Python 3 (ipykernel)",
   "language": "python",
   "name": "python3"
  },
  "language_info": {
   "codemirror_mode": {
    "name": "ipython",
    "version": 3
   },
   "file_extension": ".py",
   "mimetype": "text/x-python",
   "name": "python",
   "nbconvert_exporter": "python",
   "pygments_lexer": "ipython3",
   "version": "3.9.12"
  }
 },
 "nbformat": 4,
 "nbformat_minor": 5
}
